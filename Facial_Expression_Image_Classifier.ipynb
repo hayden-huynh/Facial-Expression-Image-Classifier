{
  "nbformat": 4,
  "nbformat_minor": 0,
  "metadata": {
    "colab": {
      "provenance": [],
      "mount_file_id": "14Fs4JAu3jHm0YIZ5jLLMyn-mDKR_ft7l",
      "authorship_tag": "ABX9TyNagf3OiBQitQSi1NBdpHR7",
      "include_colab_link": true
    },
    "kernelspec": {
      "name": "python3",
      "display_name": "Python 3"
    },
    "language_info": {
      "name": "python"
    }
  },
  "cells": [
    {
      "cell_type": "markdown",
      "metadata": {
        "id": "view-in-github",
        "colab_type": "text"
      },
      "source": [
        "<a href=\"https://colab.research.google.com/github/hayden-huynh/Facial-Expression-Image-Classifier/blob/master/Facial_Expression_Image_Classifier.ipynb\" target=\"_parent\"><img src=\"https://colab.research.google.com/assets/colab-badge.svg\" alt=\"Open In Colab\"/></a>"
      ]
    },
    {
      "cell_type": "code",
      "execution_count": null,
      "metadata": {
        "id": "ofo__mA3k6yS"
      },
      "outputs": [],
      "source": [
        "# Load the facial expression dataset from Kaggle\n",
        "# Reference: https://www.analyticsvidhya.com/blog/2021/06/how-to-load-kaggle-datasets-directly-into-google-colab/\n",
        "\n",
        "! pip install kaggle\n",
        "! mkdir ~/.kaggle\n",
        "! cp /content/drive/MyDrive/kaggle.json ~/.kaggle/\n",
        "! chmod 600 ~/.kaggle/kaggle.json\n",
        "! kaggle datasets download samaneheslamifar/facial-emotion-expressions\n",
        "! unzip facial-emotion-expressions.zip"
      ]
    },
    {
      "cell_type": "code",
      "source": [
        "# Label the dataset images into csv files\n",
        "\n",
        "import os\n",
        "import csv\n",
        "\n",
        "label_map = {\n",
        "    \"angry\": 0,\n",
        "    \"disgust\": 1,\n",
        "    \"fear\": 2,\n",
        "    \"happy\": 3,\n",
        "    \"neutral\": 4,\n",
        "    \"sad\": 5,\n",
        "    \"surprise\": 6\n",
        "}\n",
        "\n",
        "train_csv = open(\"train_labels.csv\", \"w\")\n",
        "train_writer = csv.writer(train_csv)\n",
        "test_csv = open(\"test_labels.csv\", \"w\")\n",
        "test_writer = csv.writer(test_csv)\n",
        "\n",
        "train_root = \"/content/images/train\"\n",
        "for label in sorted(os.listdir(train_root)):\n",
        "  for img in sorted(os.listdir(os.path.join(train_root, label))):\n",
        "    train_writer.writerow([os.path.join(label, img), label_map[label]])\n",
        "\n",
        "test_root = \"/content/images/validation\"\n",
        "for label in sorted(os.listdir(test_root)):\n",
        "  for img in sorted(os.listdir(os.path.join(test_root, label))):\n",
        "    test_writer.writerow([os.path.join(label, img), label_map[label]])\n"
      ],
      "metadata": {
        "id": "m68jE3nmthkQ"
      },
      "execution_count": 10,
      "outputs": []
    },
    {
      "cell_type": "code",
      "source": [
        "# Create training and testing datasets\n",
        "# Reference: https://pytorch.org/tutorials/beginner/basics/data_tutorial.html#iterating-and-visualizing-the-dataset\n",
        "\n",
        "import os\n",
        "import torch\n",
        "import pandas as pd\n",
        "from torch.utils.data import Dataset\n",
        "from torch.utils.data import DataLoader\n",
        "from torchvision.transforms import ToTensor\n",
        "from torchvision.io import read_image\n",
        "import matplotlib.pyplot as plt\n",
        "\n",
        "classes = [\"angry\", \"disgust\", \"fear\", \"happy\", \"neutral\", \"sad\", \"surprise\"]\n",
        "\n",
        "class FacialExpDataset(Dataset):\n",
        "  def __init__(self, labels_csv, img_dir, transform=None, target_transform=None):\n",
        "    self.img_labels = pd.read_csv(labels_csv)\n",
        "    self.img_dir = img_dir\n",
        "    self.transform = transform\n",
        "    self.target_transform = target_transform\n",
        "\n",
        "  def __len__(self):\n",
        "    return len(self.img_labels)\n",
        "\n",
        "  def __getitem__(self, idx):\n",
        "    img_path = os.path.join(self.img_dir, self.img_labels.iloc[idx, 0])\n",
        "    image = read_image(img_path)\n",
        "    label = self.img_labels.iloc[idx, 1]\n",
        "    if self.transform:\n",
        "      image = self.transform(image)\n",
        "    if self.target_transform:\n",
        "      label = self.target_transform(label)\n",
        "    return image, label\n",
        "\n",
        "\n",
        "train_data = FacialExpDataset(\"/content/train_labels.csv\", train_root)\n",
        "test_data = FacialExpDataset(\"/content/test_labels.csv\", test_root)\n",
        "\n",
        "batch_size = 4\n",
        "train_loader = DataLoader(train_data, batch_size, shuffle=True)\n",
        "test_loader = DataLoader(test_data, batch_size, shuffle=True)\n",
        "\n",
        "train_features, train_labels = next(iter(train_loader))\n",
        "print(f\"Feature batch shape: {train_features.size()}\")\n",
        "print(f\"Labels batch shape: {train_labels.size()}\")\n",
        "img = train_features[0].squeeze()\n",
        "label = train_labels[0]\n",
        "plt.imshow(img, cmap=\"gray\")\n",
        "plt.show()\n",
        "print(f\"Label: {classes[int(label)]}\")\n"
      ],
      "metadata": {
        "colab": {
          "base_uri": "https://localhost:8080/",
          "height": 318
        },
        "id": "UFR1PtUT71ez",
        "outputId": "ba2fa509-c23c-40bf-a05e-0c20315be5b9"
      },
      "execution_count": 21,
      "outputs": [
        {
          "output_type": "stream",
          "name": "stdout",
          "text": [
            "Feature batch shape: torch.Size([4, 1, 48, 48])\n",
            "Labels batch shape: torch.Size([4])\n"
          ]
        },
        {
          "output_type": "display_data",
          "data": {
            "text/plain": [
              "<Figure size 432x288 with 1 Axes>"
            ],
            "image/png": "[encoded data removed]"
          },
          "metadata": {
            "needs_background": "light"
          }
        },
        {
          "output_type": "stream",
          "name": "stdout",
          "text": [
            "Label: happy\n"
          ]
        }
      ]
    },
    {
      "cell_type": "code",
      "source": [],
      "metadata": {
        "id": "Ql8by9rxFxPb"
      },
      "execution_count": null,
      "outputs": []
    }
  ]
}