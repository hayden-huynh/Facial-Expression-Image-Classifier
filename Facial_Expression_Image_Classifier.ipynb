{
  "nbformat": 4,
  "nbformat_minor": 0,
  "metadata": {
    "colab": {
      "provenance": [],
      "mount_file_id": "14Fs4JAu3jHm0YIZ5jLLMyn-mDKR_ft7l",
      "authorship_tag": "ABX9TyMYFDY6yBbO/SIvYYGoTMQ4",
      "include_colab_link": true
    },
    "kernelspec": {
      "name": "python3",
      "display_name": "Python 3"
    },
    "language_info": {
      "name": "python"
    }
  },
  "cells": [
    {
      "cell_type": "markdown",
      "metadata": {
        "id": "view-in-github",
        "colab_type": "text"
      },
      "source": [
        "<a href=\"https://colab.research.google.com/github/hayden-huynh/Facial-Expression-Image-Classifier/blob/master/Facial_Expression_Image_Classifier.ipynb\" target=\"_parent\"><img src=\"https://colab.research.google.com/assets/colab-badge.svg\" alt=\"Open In Colab\"/></a>"
      ]
    },
    {
      "cell_type": "code",
      "execution_count": null,
      "metadata": {
        "id": "ofo__mA3k6yS"
      },
      "outputs": [],
      "source": [
        "# Load the facial expression dataset from Kaggle\n",
        "\n",
        "! pip install kaggle\n",
        "! mkdir ~/.kaggle\n",
        "! cp /content/drive/MyDrive/kaggle.json ~/.kaggle/\n",
        "! chmod 600 ~/.kaggle/kaggle.json"
      ]
    },
    {
      "cell_type": "code",
      "source": [
        "! kaggle datasets download samaneheslamifar/facial-emotion-expressions\n",
        "! unzip facial-emotion-expressions.zip"
      ],
      "metadata": {
        "id": "c6YELEpYrDyI"
      },
      "execution_count": null,
      "outputs": []
    },
    {
      "cell_type": "code",
      "source": [
        "# Label the dataset images\n",
        "\n",
        "import os\n",
        "\n",
        "label_map = {\n",
        "    \"angry\": 0,\n",
        "    \"disgust\": 1,\n",
        "    \"fear\": 2,\n",
        "    \"happy\": 3,\n",
        "    \"neutral\": 4,\n",
        "    \"sad\": 5,\n",
        "    \"surprise\": 6\n",
        "}\n",
        "\n"
      ],
      "metadata": {
        "id": "m68jE3nmthkQ"
      },
      "execution_count": null,
      "outputs": []
    }
  ]
}